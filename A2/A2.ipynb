{
 "cells": [
  {
   "cell_type": "markdown",
   "metadata": {
    "editable": false,
    "slideshow": {
     "slide_type": "slide"
    }
   },
   "source": [
    "# COMP 421 Fall 2022 Assignment 2\n",
    "\n",
    "<img src=\"https://comp421.cs.unc.edu/static/images/COMP421Logo.png\" \n",
    "     align=\"right\" style=\"display:inline; width:100px; \">\n",
    "\n",
    "Answer each question below by filling in code at the point indicated.\n",
    "Do not modify any cells that say <font color=\"red\">\"You cannot and should not update this cell\"!</font>\n",
    "\n",
    "You __<font color=\"red\">must</font>__ run the cells in order. It looks like you can come back later after restarting and pick up where you left off but that is not the case. When restarting you always have to start at the top of the notebook and run each cell in turn. \n",
    "\n",
    "The data supplied to you in this assignment will be graded with slightly different data.\n",
    "For example, if a question asks you to create a list of names from the \n",
    "database and your code simply sets the list to the answers without \n",
    "querying the database, your answer will not be accepted by the grader."
   ]
  },
  {
   "cell_type": "code",
   "execution_count": 2,
   "metadata": {
    "editable": false,
    "execution": {},
    "slideshow": {
     "slide_type": "slide"
    }
   },
   "outputs": [
    {
     "data": {
      "application/javascript": [
       "IPython.notebook.set_autosave_interval(15000)"
      ]
     },
     "metadata": {},
     "output_type": "display_data"
    },
    {
     "name": "stdout",
     "output_type": "stream",
     "text": [
      "Autosaving every 15 seconds\n"
     ]
    }
   ],
   "source": [
    "# You cannot and should not update this cell\n",
    "# setup\n",
    "%autosave 15\n",
    "import sqlite3\n",
    "conn = sqlite3.connect('football.sqlite')\n",
    "cursor = conn.cursor()\n",
    "cursor.execute('PRAGMA foreign_keys = ON')\n",
    "\n",
    "import comp421\n",
    "check, report = comp421.start('A2')"
   ]
  },
  {
   "cell_type": "code",
   "execution_count": 3,
   "metadata": {
    "execution": {},
    "slideshow": {
     "slide_type": "slide"
    }
   },
   "outputs": [],
   "source": [
    "# fill in your info here\n",
    "Author = \"yuchencc\"\n",
    "Collaborators = [\"list\", \"their\", \"onyens\"]"
   ]
  },
  {
   "cell_type": "code",
   "execution_count": 4,
   "metadata": {
    "editable": false,
    "execution": {},
    "slideshow": {
     "slide_type": "slide"
    }
   },
   "outputs": [
    {
     "name": "stdout",
     "output_type": "stream",
     "text": [
      "Author appears correct\n",
      "Collaborators appears correct\n"
     ]
    }
   ],
   "source": [
    "# You cannot and should not update this cell\n",
    "check('Author', Author != 'youronyen', points=1, sort=True)\n",
    "check('Collaborators', Collaborators != ['list', 'their', 'onyens', 'here'], points=1, sort=True)"
   ]
  },
  {
   "cell_type": "markdown",
   "metadata": {
    "editable": false,
    "slideshow": {
     "slide_type": "slide"
    }
   },
   "source": [
    "<img src=\"https://collegefootballdata.com/LetterLogo.png\" width=\"200\" style=\"float: right\"/>\n",
    "\n",
    "The database we'll be using in `football.sqlite`.\n",
    "It is my attempt to get as much information from college football in one place.\n",
    "The information was taken from [CollegeFootballData.com](https://collegefootballdata.com/) which\n",
    "is a sports statistics and analytics website with no direct affiliation to the NCAA, its member conferences, or its member teams.\n",
    "\n",
    "<p/>\n",
    "If there are mistakes in the data, it's all my fault.\n",
    "This is **not** an official database.\n",
    "\n",
    "This database has the following schema:\n",
    "```\n",
    "CREATE TABLE Conferences\n",
    "     (conf_id INTEGER PRIMARY KEY,\n",
    "      name TEXT,\n",
    "      long_name TEXT)\n",
    "      \n",
    "CREATE TABLE Teams\n",
    "     (team_id INTEGER PRIMARY KEY,\n",
    "      school_name TEXT,\n",
    "      mascot TEXT,\n",
    "      conf_id INTEGER,\n",
    "      FOREIGN KEY(conf_id) REFERENCES Conferences(conf_id) ON DELETE CASCADE)\n",
    "      \n",
    "CREATE TABLE Stadiums\n",
    "     (stadium_id INTEGER PRIMARY KEY,\n",
    "      name TEXT,\n",
    "      capacity INTEGER,\n",
    "      city TEXT,\n",
    "      state TEXT,\n",
    "      zip TEXT,\n",
    "      latitude REAL,\n",
    "      longitude REAL,\n",
    "      elevation REAL,\n",
    "      team_id INTEGER,\n",
    "      FOREIGN KEY(team_id) REFERENCES Teams(team_id) ON DELETE CASCADE)\n",
    "\n",
    "CREATE TABLE Rosters\n",
    "    (roster_id INTEGER PRIMARY KEY,\n",
    "     first_name TEXT,\n",
    "     last_name TEXT,\n",
    "     height INTEGER,\n",
    "     weight INTEGER,\n",
    "     year INTEGER,\n",
    "     position TEXT,\n",
    "     city TEXT,\n",
    "     state TEXT,\n",
    "     zip TEXT,\n",
    "     latitude REAL,\n",
    "     longitude REAL,\n",
    "     jersey_number INTEGER,\n",
    "     team_id INTEGER,\n",
    "     FOREIGN KEY(team_id) REFERENCES Teams(team_id) ON DELETE CASCADE)\n",
    "     \n",
    "CREATE TABLE Games\n",
    "    (game_id INTEGER PRIAMRY KEY,\n",
    "     home_team_id INTEGER,\n",
    "     home_team TEXT,\n",
    "     away_team_id INTEGER,\n",
    "     away_team TEXT,\n",
    "     start_date TEXT,\n",
    "     stadium_id INTEGER,\n",
    "     completed INTEGER,               -- 0 False, otherwise True\n",
    "     conference_game INTEGER,         -- 0 False, otherwise True\n",
    "     attendance INTEGER DEFAULT NULL, -- NULL until game starts\n",
    "     home_points INTEGER,\n",
    "     away_points INTEGER,\n",
    "     week INTEGER,                    -- Conference week number\n",
    "     FOREIGN KEY(home_team_id) REFERENCES Teams(team_id) ON DELETE SET NULL,\n",
    "     FOREIGN KEY(away_team_id) REFERENCES Teams(team_id) ON DELETE SET NULL,\n",
    "     FOREIGN KEY(stadium_id) REFERENCES Stadiums(stadium_id) ON DELETE SET NULL)\n",
    "```\n",
    "\n",
    "Write code in the cells below to answer each question."
   ]
  },
  {
   "cell_type": "markdown",
   "metadata": {
    "editable": false,
    "slideshow": {
     "slide_type": "slide"
    }
   },
   "source": [
    "## 1. Find the following using SQL queries"
   ]
  },
  {
   "cell_type": "markdown",
   "metadata": {
    "editable": false,
    "slideshow": {
     "slide_type": "slide"
    }
   },
   "source": [
    "**1a** UNC is known the college football database as 'North Carolina'.\n",
    "\n",
    "Set variable `q1a` equal to the mascot name of UNC."
   ]
  },
  {
   "cell_type": "code",
   "execution_count": 5,
   "metadata": {
    "execution": {},
    "slideshow": {
     "slide_type": "slide"
    }
   },
   "outputs": [
    {
     "name": "stdout",
     "output_type": "stream",
     "text": [
      "The mascot of school North Carolina is Tar Heels.\n"
     ]
    }
   ],
   "source": [
    "# write your query as a single string here\n",
    "a1a = \"\"\"SELECT mascot\n",
    "            FROM Teams\n",
    "            WHERE school_name = 'North Carolina';\"\"\"\n",
    "\n",
    "# code to execute your query, leave this alone\n",
    "q1a = cursor.execute(a1a).fetchone()[0]\n",
    "print(f'The mascot of school North Carolina is {q1a}.')"
   ]
  },
  {
   "cell_type": "code",
   "execution_count": 6,
   "metadata": {
    "editable": false,
    "execution": {},
    "slideshow": {
     "slide_type": "slide"
    }
   },
   "outputs": [
    {
     "name": "stdout",
     "output_type": "stream",
     "text": [
      "1a appears correct\n"
     ]
    }
   ],
   "source": [
    "# you cannot and should not update this cell\n",
    "check('1a', q1a, points=8)"
   ]
  },
  {
   "cell_type": "markdown",
   "metadata": {
    "editable": false,
    "slideshow": {
     "slide_type": "slide"
    }
   },
   "source": [
    "**1b**. According to the college football database, how many teams are in the conference named 'ACC'?\n",
    "\n",
    "Set the variable `q1b` equal to the number of teams in the conference named 'ACC'."
   ]
  },
  {
   "cell_type": "code",
   "execution_count": 7,
   "metadata": {
    "execution": {},
    "slideshow": {
     "slide_type": "slide"
    }
   },
   "outputs": [
    {
     "name": "stdout",
     "output_type": "stream",
     "text": [
      "According to the college football database there are 14 teams in the ACC football conference.\n"
     ]
    }
   ],
   "source": [
    "a1b = \"\"\"SELECT COUNT(*)\n",
    "        FROM Conferences AS C, Teams AS T\n",
    "        WHERE name = 'ACC' AND C.conf_id = T.conf_id\"\"\"\n",
    "\n",
    "# test code\n",
    "q1b = cursor.execute(a1b).fetchone()[0]\n",
    "print(f'According to the college football database there are {q1b} teams in the ACC football conference.')"
   ]
  },
  {
   "cell_type": "code",
   "execution_count": 8,
   "metadata": {
    "editable": false,
    "execution": {},
    "slideshow": {
     "slide_type": "slide"
    }
   },
   "outputs": [
    {
     "name": "stdout",
     "output_type": "stream",
     "text": [
      "1b appears correct\n"
     ]
    }
   ],
   "source": [
    "# you cannot and should not update this cell\n",
    "check('1b', q1b, points=10)"
   ]
  },
  {
   "cell_type": "markdown",
   "metadata": {
    "editable": false,
    "slideshow": {
     "slide_type": "slide"
    }
   },
   "source": [
    "**1c**. Again, according to the college football database,\n",
    "what are the school names and mascots of teams in the ACC?\n",
    "\n",
    "Set the variable `q1c` equal to the result of a SQL query that returns a Python list of tuples where the first tuple element is the school name and the second tuple element is the mascot.  The Python list should be in alphabetical order according to mascot."
   ]
  },
  {
   "cell_type": "code",
   "execution_count": 9,
   "metadata": {
    "execution": {},
    "slideshow": {
     "slide_type": "slide"
    }
   },
   "outputs": [
    {
     "name": "stdout",
     "output_type": "stream",
     "text": [
      "Duke has a mascot named Blue Devils\n",
      "Louisville has a mascot named Cardinals\n",
      "Virginia has a mascot named Cavaliers\n",
      "Wake Forest has a mascot named Demon Deacons\n",
      "Boston College has a mascot named Eagles\n",
      "Virginia Tech has a mascot named Hokies\n",
      "Miami has a mascot named Hurricanes\n",
      "Syracuse has a mascot named Orange\n",
      "Pittsburgh has a mascot named Panthers\n",
      "Florida State has a mascot named Seminoles\n",
      "North Carolina has a mascot named Tar Heels\n",
      "Clemson has a mascot named Tigers\n",
      "NC State has a mascot named Wolfpack\n",
      "Georgia Tech has a mascot named Yellow Jackets\n"
     ]
    }
   ],
   "source": [
    "a1c = \"\"\"SELECT T.school_name, T.mascot\n",
    "            FROM Teams AS T, Conferences AS C\n",
    "            WHERE C.name = 'ACC' AND C.conf_id = T.conf_id\n",
    "            ORDER BY T.mascot;\"\"\"\n",
    "\n",
    "# test\n",
    "q1c = cursor.execute(a1c).fetchall()\n",
    "for row in q1c:\n",
    "    print(f'{row[0]} has a mascot named {row[1]}')"
   ]
  },
  {
   "cell_type": "code",
   "execution_count": 10,
   "metadata": {
    "editable": false,
    "execution": {},
    "slideshow": {
     "slide_type": "slide"
    }
   },
   "outputs": [
    {
     "name": "stdout",
     "output_type": "stream",
     "text": [
      "1c appears correct\n"
     ]
    }
   ],
   "source": [
    "# you cannot and should not update this cell\n",
    "check('1c', q1c, points=10)"
   ]
  },
  {
   "cell_type": "markdown",
   "metadata": {
    "editable": false,
    "slideshow": {
     "slide_type": "slide"
    }
   },
   "source": [
    "**1d**. What is the stadium name and seating capacity of the UNC football team?\n",
    "\n",
    "Write a SQL query that returns the stadium name and stadium capacity for UNC and\n",
    "assign it's output to `q1d`."
   ]
  },
  {
   "cell_type": "code",
   "execution_count": 11,
   "metadata": {
    "execution": {},
    "slideshow": {
     "slide_type": "slide"
    }
   },
   "outputs": [
    {
     "name": "stdout",
     "output_type": "stream",
     "text": [
      "UNC uses stadium Kenan Memorial Stadium with a capacity of 50500 for home football games.\n"
     ]
    }
   ],
   "source": [
    "q1d = \"\"\"SELECT S.name, S.capacity\n",
    "            FROM Teams AS T, Stadiums AS S\n",
    "           WHERE T.school_name = 'North Carolina' AND T.team_id =S.team_id\"\"\"\n",
    "    \n",
    "q1d = cursor.execute(q1d).fetchall()[0]\n",
    "\n",
    "print(f'UNC uses stadium {q1d[0]} with a capacity of {q1d[1]} for home football games.')"
   ]
  },
  {
   "cell_type": "code",
   "execution_count": 12,
   "metadata": {
    "editable": false,
    "execution": {},
    "slideshow": {
     "slide_type": "slide"
    }
   },
   "outputs": [
    {
     "name": "stdout",
     "output_type": "stream",
     "text": [
      "1d appears correct\n"
     ]
    }
   ],
   "source": [
    "# You cannot and should not update this cell\n",
    "check('1d', q1d, points=10)"
   ]
  },
  {
   "cell_type": "markdown",
   "metadata": {
    "editable": false,
    "slideshow": {
     "slide_type": "slide"
    }
   },
   "source": [
    "**1e**. By seating capacity, what is the largest stadium in the ACC?\n",
    "\n",
    "Write a SQL query that returns the school name, stadium name, and stadium capacity for the\n",
    "school in the ACC with the largest capacity football stadium?"
   ]
  },
  {
   "cell_type": "code",
   "execution_count": 13,
   "metadata": {
    "execution": {},
    "slideshow": {
     "slide_type": "slide"
    }
   },
   "outputs": [
    {
     "name": "stdout",
     "output_type": "stream",
     "text": [
      "The largest stadium capacity in the ACC is stadium Memorial Stadium used by Clemson with a capacity of 81500\n"
     ]
    }
   ],
   "source": [
    "q1e = \"\"\"SELECT T.school_name, S.name, S.capacity\n",
    "            FROM Stadiums AS S, Teams AS T, Conferences AS C\n",
    "            WHERE C.name = 'ACC' AND C.conf_id = T.conf_id AND T.team_id = S.team_id \n",
    "            AND S.capacity = (SELECT MAX(S2.capacity)\n",
    "                                                    FROM Stadiums AS S2, Conferences AS C2, Teams AS T2\n",
    "                                                    WHERE C2.name = 'ACC' AND C2.conf_id = T2.conf_id AND T2.team_id = S2.team_id)\"\"\"\n",
    "\n",
    "q1e = cursor.execute(q1e).fetchall()[0]\n",
    "print(f'The largest stadium capacity in the ACC is stadium {q1e[1]} used by {q1e[0]} with a capacity of {q1e[2]}')"
   ]
  },
  {
   "cell_type": "code",
   "execution_count": 14,
   "metadata": {
    "editable": false,
    "execution": {},
    "slideshow": {
     "slide_type": "slide"
    }
   },
   "outputs": [
    {
     "name": "stdout",
     "output_type": "stream",
     "text": [
      "1e appears correct\n"
     ]
    }
   ],
   "source": [
    "# You cannot and should not update this cell\n",
    "check('1e', q1e, points=10)"
   ]
  },
  {
   "cell_type": "markdown",
   "metadata": {
    "editable": false,
    "slideshow": {
     "slide_type": "slide"
    }
   },
   "source": [
    "## 2. Fill in the body of the functions below.\n",
    "\n",
    "**2a**. Fill in the code below to make this function return the full name (first, single blank, then last name) of\n",
    "the football player with the lowest number jersey from the school name passed in.\n",
    "If multiple people have the same number, return the player with that jersey number that has a last name that appears alphabetically last.\n",
    "\n",
    "**INPUT**: The function will take a parameter `school_name`.<br />     \n",
    "**OUTPUT**: The function will return a single string with the full name of the football player from that school with the lowest, non-null jersey number.\n",
    "If multiple players have the same jersey number, return the full name of the player with that jersey number that has a last name that appears last alphabetically.\n",
    "\n",
    "**NOTE:** In college football, player can have no number to signify a student who is not actively playing on the team.\n",
    "For example, [UNC Defensive Back, Ja'Qurious Conley](https://goheels.com/sports/football/roster/ja-qurious-conley/23313) suffered a season-ending injury on the opening kickoff against Wofford and has a jersey number of NULL"
   ]
  },
  {
   "cell_type": "code",
   "execution_count": 15,
   "metadata": {
    "execution": {},
    "slideshow": {
     "slide_type": "slide"
    }
   },
   "outputs": [
    {
     "name": "stdout",
     "output_type": "stream",
     "text": [
      "Tony Grimes plays at North Carolina and has the lowest jersey number\n"
     ]
    }
   ],
   "source": [
    "def f2a(school_name):\n",
    "    q2a = \"\"\"SELECT first_name||\" \"||last_name\n",
    "        FROM Rosters AS R, Teams AS T\n",
    "        WHERE T.school_name = ? AND R.team_id = T.team_id \n",
    "            AND R.jersey_number = (SELECT MIN(R2.jersey_number) \n",
    "                                    FROM Rosters AS R2,Teams AS T2\n",
    "                                    WHERE T2.school_name = ? AND R2.team_id = T2.team_id )\n",
    "        ORDER BY last_name DESC\"\"\"\n",
    "    q2a = cursor.execute(q2a,(school_name, school_name)).fetchall()[0][0]\n",
    "    \n",
    "    return q2a\n",
    "\n",
    "school_name = 'North Carolina'\n",
    "q2a = f2a(school_name)\n",
    "print(f'{q2a} plays at {school_name} and has the lowest jersey number')"
   ]
  },
  {
   "cell_type": "code",
   "execution_count": 16,
   "metadata": {
    "editable": false,
    "execution": {},
    "slideshow": {
     "slide_type": "slide"
    }
   },
   "outputs": [
    {
     "name": "stdout",
     "output_type": "stream",
     "text": [
      "Jaelen Gill player at school Boston College and has the lowest jersey number\n",
      "2a-1 appears correct\n",
      "Jontavis Robertson player at school Duke and has the lowest jersey number\n",
      "2a-2 appears correct\n",
      "Tony Grimes player at school North Carolina and has the lowest jersey number\n",
      "2a-3 appears correct\n",
      "Isaiah Moore player at school NC State and has the lowest jersey number\n",
      "2a-4 appears correct\n",
      "Caelen Carson player at school Wake Forest and has the lowest jersey number\n",
      "2a-5 appears correct\n"
     ]
    }
   ],
   "source": [
    "# You cannot and should not update this cell\n",
    "teams = ['Boston College', 'Duke', 'North Carolina', 'NC State', 'Wake Forest']\n",
    "for index, team in enumerate(teams):\n",
    "    q2a = f2a(team)\n",
    "    print(f'{q2a} player at school {team} and has the lowest jersey number')\n",
    "    check(f'2a-{index+1}', q2a, points=10/len(teams))"
   ]
  },
  {
   "cell_type": "markdown",
   "metadata": {
    "editable": false,
    "slideshow": {
     "slide_type": "slide"
    }
   },
   "source": [
    "**2b.** Write a function that takes as input a conference name and a week number and returns the maximum number of points scored by the home team in a conference game in that week.\n",
    "\n",
    "**INPUT:** A conference game and a week number  \n",
    "**OUTPUT:** The maximum number of points scored by the home team in a conference game in that week.\n",
    "If there were no conference games that week, the return Python `None`."
   ]
  },
  {
   "cell_type": "code",
   "execution_count": 17,
   "metadata": {
    "execution": {},
    "slideshow": {
     "slide_type": "slide"
    }
   },
   "outputs": [
    {
     "name": "stdout",
     "output_type": "stream",
     "text": [
      "The maximum number of points scored by a home team in an ACC conference game in week 1 is 31\n"
     ]
    }
   ],
   "source": [
    "def f2b(conf_name, week_number):\n",
    "    q2b = \"\"\"SELECT MAX(G.home_points)\n",
    "                FROM Conferences AS C, Games AS G, Teams AS T, Stadiums AS S\n",
    "                WHERE C.conf_id = T.conf_id AND T.team_id = S.team_id AND S.stadium_id = G.stadium_id\n",
    "                AND C.name = ? AND G.week = ? AND G.conference_game = 1\"\"\"\n",
    "    q2b = cursor.execute(q2b, (conf_name,week_number)).fetchone()[0]\n",
    "    return q2b\n",
    "conf_name = 'ACC'\n",
    "week_number = 1\n",
    "q2b = f2b(conf_name, week_number)\n",
    "print(f'The maximum number of points scored by a home team in an {conf_name}',\n",
    "      f'conference game in week {week_number} is {q2b}' )"
   ]
  },
  {
   "cell_type": "code",
   "execution_count": 18,
   "metadata": {
    "editable": false,
    "execution": {},
    "scrolled": true,
    "slideshow": {
     "slide_type": "slide"
    }
   },
   "outputs": [
    {
     "name": "stdout",
     "output_type": "stream",
     "text": [
      "The maximum number of points scored by a home team in an ACC conference game in week 1 is 31\n",
      "2cb-1 appears correct\n",
      "The maximum number of points scored by a home team in an ACC conference game in week 2 is None\n",
      "2cb-2 appears correct\n",
      "The maximum number of points scored by a home team in an ACC conference game in week 3 is None\n",
      "2cb-3 appears correct\n",
      "The maximum number of points scored by a home team in an ACC conference game in week 4 is None\n",
      "2cb-4 appears correct\n"
     ]
    }
   ],
   "source": [
    "# You cannot and should not update this cell\n",
    "conf_name = 'ACC'\n",
    "for week_number in range(1, 5):\n",
    "    q2b = f2b(conf_name, week_number)\n",
    "    print(f'The maximum number of points scored by a home team in an {conf_name}',\n",
    "          f'conference game in week {week_number} is {q2b}' )\n",
    "    check(f'2cb-{week_number}', q2b, points=5)"
   ]
  },
  {
   "cell_type": "markdown",
   "metadata": {
    "editable": false,
    "slideshow": {
     "slide_type": "slide"
    }
   },
   "source": [
    "**2c**. Write a function that determines the most points scored \n",
    "by one team in the first week of the season where one of the \n",
    "teams is in the conference name parameter.\n",
    "The function should return the a tuple of information:\n",
    "the home team's points, the home team's school name, the away team's points, and the away team's school name.\n",
    "Since multiple games could have the most points scored,\n",
    "the function should return an array of tuples that has the information of all games that had the most points scored by one team.\n",
    "\n",
    "**INPUT**: The function will take a parameter `conf_name`.<br />\n",
    "**OUTPUT** A Python list of tuples such that  each tuple contains the home team's points and school name along with the away team's points and school name.\n",
    "Each of tuple information of games in the first week should one team from `conf_name` and one of the teams in each game should have scored the most points for week 1.\n",
    "\n",
    "\n",
    "**NOTE:** I highly recommend that you write a single query to return the information.\n",
    "You can do it in multiple queries, but that is less efficient."
   ]
  },
  {
   "cell_type": "code",
   "execution_count": 28,
   "metadata": {
    "execution": {},
    "slideshow": {
     "slide_type": "slide"
    }
   },
   "outputs": [
    {
     "name": "stdout",
     "output_type": "stream",
     "text": [
      "The max points scored by any team in ACC week one was:\n",
      "\tHome team Appalachian State scored 61 points while away team North Carolina scored 63 points\n"
     ]
    }
   ],
   "source": [
    "#conditions: week: first conf_name = conf_name -> home team; score most->away team\n",
    "def f2c(conf_name):\n",
    "    q2c = \"\"\"WITH temp1 AS (SELECT G.home_points, G.home_team, G.away_points, G.away_team\n",
    "                FROM Games AS G, Conferences AS C, Teams As T\n",
    "                WHERE (G.week = 1 AND C.name = ? AND C.conf_id = T.conf_id AND T.team_id = G.home_team_id) \n",
    "                OR (G.week = 1 AND C.name = ? AND C.conf_id = T.conf_id AND T.team_id = G.away_team_id)),\n",
    "                temp2 AS (SELECT max(home_points) AS maxH, max(away_points) AS maxA\n",
    "                            FROM temp1)\n",
    "                SELECT T1.home_points, T1.home_team, T1.away_points, T1.away_team\n",
    "                            FROM temp1 AS T1, temp2 AS T2\n",
    "                            WHERE (T2.maxH> T2.maxA AND T1.home_points = T2.maxH)\n",
    "                                                    OR \n",
    "                                  (T2.maxH< T2.maxA AND T1.away_points = T2.maxA)\"\"\"\n",
    "    q2c = cursor.execute(q2c,(conf_name, conf_name)).fetchall()\n",
    "    return q2c\n",
    "\n",
    "conf_name = 'ACC'\n",
    "q2c = f2c(conf_name)\n",
    "print(f'The max points scored by any team in {conf_name} week one was:')\n",
    "for row in q2c:\n",
    "    print(f'\\tHome team {row[1]} scored {row[0]} points while away team {row[3]} scored {row[2]} points')"
   ]
  },
  {
   "cell_type": "code",
   "execution_count": 29,
   "metadata": {
    "editable": false,
    "execution": {},
    "slideshow": {
     "slide_type": "slide"
    }
   },
   "outputs": [
    {
     "name": "stdout",
     "output_type": "stream",
     "text": [
      "The max points scored by any team in ACC week one was:\n",
      "\tHome team Appalachian State scored 61 points while away team North Carolina scored 63 points\n",
      "\n",
      "2c-0 appears correct\n",
      "The max points scored by any team in Big Tem week one was:\n",
      "\n",
      "2c-1 appears correct\n",
      "The max points scored by any team in SEC week one was:\n",
      "\tHome team Hawai'i scored 10 points while away team Vanderbilt scored 63 points\n",
      "\n",
      "2c-2 appears correct\n",
      "The max points scored by any team in Pac-12 week one was:\n",
      "\tHome team USC scored 66 points while away team Rice scored 14 points\n",
      "\n",
      "2c-3 appears correct\n"
     ]
    }
   ],
   "source": [
    "# You cannot and should not update this cell\n",
    "conferences = ['ACC', 'Big Tem', 'SEC', 'Pac-12']\n",
    "for index, conf_name in enumerate(conferences):\n",
    "    q2c = f2c(conf_name)\n",
    "    print(f'The max points scored by any team in {conf_name} week one was:')\n",
    "    for row in q2c:\n",
    "        print(f'\\tHome team {row[1]} scored {row[0]} points while away team {row[3]} scored {row[2]} points')\n",
    "    print()\n",
    "    check(f'2c-{index}', q2c, points=5)"
   ]
  },
  {
   "cell_type": "markdown",
   "metadata": {
    "editable": false,
    "slideshow": {
     "slide_type": "slide"
    }
   },
   "source": [
    "# Done!\n",
    "\n",
    "Now get your report, save, and submit your notebook. I recommend you restart the kernel, and run all, just to be sure things are going to work correctly when I run it."
   ]
  },
  {
   "cell_type": "code",
   "execution_count": 30,
   "metadata": {
    "deletable": false,
    "editable": false,
    "execution": {},
    "slideshow": {
     "slide_type": "slide"
    }
   },
   "outputs": [
    {
     "name": "stdout",
     "output_type": "stream",
     "text": [
      "  Collaborators: ['list', 'their', 'onyens']\n",
      "Report for yuchencc\n",
      "  20 of 20 appear correct, 100 of 100 points\n"
     ]
    }
   ],
   "source": [
    "# You cannot and should not update this cell\n",
    "# This cell will produce a summary report of your assignment\n",
    "assert Author != 'youronyen'\n",
    "assert Collaborators != ['list', 'their', 'onyens', 'here']\n",
    "report(Author, Collaborators)"
   ]
  },
  {
   "cell_type": "markdown",
   "metadata": {
    "editable": false,
    "slideshow": {
     "slide_type": "slide"
    }
   },
   "source": [
    "## Done!\n",
    "<img src=\"https://comp421.cs.unc.edu/static/images/restartAndClearOutput.png\" width=\"300\" style=\"float: right\" />\n",
    "\n",
    "Now go back, restart the kernel (menu <font color=\"green\">Kernel</font>-><font color=\"green\">Restart and Clear</font>), and then Shift-Enter your way through the notebook to run all the cells again so you an be sure all your code will work as you expect during grading."
   ]
  },
  {
   "cell_type": "markdown",
   "metadata": {
    "editable": false,
    "slideshow": {
     "slide_type": "slide"
    }
   },
   "source": [
    "## Saving your work\n",
    "<img src=\"https://comp421.cs.unc.edu/static/images/saveAndCheckpoint.png\" width=\"300\" style=\"float: right\" />\n",
    "\n",
    "Now save your work by going to (menu <font color='green'>File</font>-><font color='green'>Save and Checkpoint</font>)"
   ]
  },
  {
   "cell_type": "markdown",
   "metadata": {
    "editable": false,
    "slideshow": {
     "slide_type": "slide"
    }
   },
   "source": [
    "## Submit your notebook\n",
    "\n",
    "After saving, restarting the kernel, and verifying your report,\n",
    "you can submit your notebook.\n",
    "Go to https://comp421.cs.unc.edu/notebook\n",
    "\n",
    "\n",
    "Note that if you actually saved your work you should not see the leaving site message below.\n",
    "If you do see the `Leave Site` warning, cancel and save your work again.\n",
    "<br />\n",
    "<img src=\"https://comp421.cs.unc.edu/static/images/leaveSite.png\" width=\"300\" style=\"float: left\" />"
   ]
  }
 ],
 "metadata": {
  "kernelspec": {
   "display_name": "Python 3",
   "language": "python",
   "name": "python3"
  },
  "language_info": {
   "codemirror_mode": {
    "name": "ipython",
    "version": 3
   },
   "file_extension": ".py",
   "mimetype": "text/x-python",
   "name": "python",
   "nbconvert_exporter": "python",
   "pygments_lexer": "ipython3",
   "version": "3.8.5"
  },
  "rise": {
   "enable_chalkboard": true,
   "scroll": true,
   "theme": "comp116"
  }
 },
 "nbformat": 4,
 "nbformat_minor": 1
}
